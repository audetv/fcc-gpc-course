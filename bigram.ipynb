{
 "cells": [
  {
   "cell_type": "code",
   "execution_count": 51,
   "metadata": {},
   "outputs": [
    {
     "name": "stdout",
     "output_type": "stream",
     "text": [
      "cuda\n"
     ]
    }
   ],
   "source": [
    "import torch\n",
    "import torch.nn as nn\n",
    "from torch.nn import functional as F\n",
    "device = 'cuda' if torch.cuda.is_available() else 'cpu'\n",
    "print(device)\n",
    "block_size = 8\n",
    "batch_size = 4"
   ]
  },
  {
   "cell_type": "code",
   "execution_count": 52,
   "metadata": {},
   "outputs": [
    {
     "name": "stdout",
     "output_type": "stream",
     "text": [
      "['\\t', '\\n', '\\x1e', ' ', '!', '%', '(', ')', '*', '+', ',', '-', '.', '/', '0', '1', '2', '3', '4', '5', '6', '7', '8', '9', ':', ';', '<', '=', '>', '?', 'A', 'B', 'C', 'D', 'E', 'I', 'K', 'L', 'M', 'N', 'O', 'P', 'R', 'S', 'T', 'U', 'V', 'X', 'Z', '[', ']', '_', 'a', 'b', 'c', 'd', 'e', 'f', 'g', 'h', 'i', 'k', 'l', 'm', 'n', 'o', 'p', 'r', 's', 't', 'u', 'v', 'w', 'x', 'y', 'z', '\\xa0', '©', '«', '±', '»', 'Ё', 'А', 'Б', 'В', 'Г', 'Д', 'Е', 'Ж', 'З', 'И', 'Й', 'К', 'Л', 'М', 'Н', 'О', 'П', 'Р', 'С', 'Т', 'У', 'Ф', 'Х', 'Ц', 'Ч', 'Ш', 'Щ', 'Ъ', 'Ы', 'Ь', 'Э', 'Ю', 'Я', 'а', 'б', 'в', 'г', 'д', 'е', 'ж', 'з', 'и', 'й', 'к', 'л', 'м', 'н', 'о', 'п', 'р', 'с', 'т', 'у', 'ф', 'х', 'ц', 'ч', 'ш', 'щ', 'ъ', 'ы', 'ь', 'э', 'ю', 'я', 'ё', '—', '“', '”', '…', '№']\n",
      "152\n"
     ]
    }
   ],
   "source": [
    "with open('dotu.txt', 'r', encoding='utf-8') as f:\n",
    "    text = f.read()\n",
    "\n",
    "chars = sorted(set(text))\n",
    "print(chars)\n",
    "vocab_size = len(chars)\n",
    "print(vocab_size)"
   ]
  },
  {
   "cell_type": "code",
   "execution_count": 53,
   "metadata": {},
   "outputs": [
    {
     "name": "stdout",
     "output_type": "stream",
     "text": [
      "[59, 56, 62, 62, 65]\n",
      "hello\n"
     ]
    }
   ],
   "source": [
    "string_to_int = { ch:i for i,ch in enumerate(chars) }\n",
    "int_to_string = { i:ch for i,ch in enumerate(chars) }\n",
    "encode = lambda s: [string_to_int[c] for c in s]\n",
    "decode = lambda l: ''.join([int_to_string[i] for i in l])\n",
    "\n",
    "encoded_hello = encode('hello')\n",
    "decoded_hello = decode(encoded_hello)\n",
    "\n",
    "print(encoded_hello)\n",
    "print(decoded_hello)"
   ]
  },
  {
   "cell_type": "code",
   "execution_count": 54,
   "metadata": {},
   "outputs": [
    {
     "name": "stdout",
     "output_type": "stream",
     "text": [
      "tensor([  3,   3,   1,  86, 128, 131, 132, 114, 132, 128, 137, 127, 128,   3,\n",
      "        128, 115, 139, 114, 145,   3, 132, 119, 128, 130, 122, 145,   3, 133,\n",
      "        129, 130, 114, 116, 125, 119, 127, 122, 145,   1,  51,  51,  51,  51,\n",
      "         51,  51,  51,  51,  51,  51,  51,  51,  51,  51,   1,  97, 128, 131,\n",
      "        132, 114, 127, 128, 116, 128, 137, 127, 141, 119,   3, 126, 114, 132,\n",
      "        119, 130, 122, 114, 125, 141,   3, 133, 137, 119, 115, 127, 128, 117,\n",
      "        128,   3, 124, 133, 130, 131, 114,   3,   1, 134, 114, 124, 133, 125,\n",
      "        142, 132])\n"
     ]
    }
   ],
   "source": [
    "data = torch.tensor(encode(text), dtype=torch.long)\n",
    "print(data[:100])"
   ]
  },
  {
   "cell_type": "code",
   "execution_count": 55,
   "metadata": {},
   "outputs": [
    {
     "name": "stdout",
     "output_type": "stream",
     "text": [
      "tensor([647540, 155174, 614556, 353802])\n",
      "inputs: \n",
      "tensor([[  3, 118, 128, 115, 114, 116, 122, 132],\n",
      "        [126,   3, 131, 126, 141, 131, 125, 119],\n",
      "        [133,  10,   3, 127, 114, 133, 124, 133],\n",
      "        [  3, 116, 141, 137, 122, 131, 125, 119]], device='cuda:0')\n",
      "targets: \n",
      "tensor([[118, 128, 115, 114, 116, 122, 132,   3],\n",
      "        [  3, 131, 126, 141, 131, 125, 119,   7],\n",
      "        [ 10,   3, 127, 114, 133, 124, 133,  10],\n",
      "        [116, 141, 137, 122, 131, 125, 119, 127]], device='cuda:0')\n"
     ]
    }
   ],
   "source": [
    "n = int(0.8*len(data))\n",
    "train_data = data[:n]\n",
    "val_data = data[n:]\n",
    "\n",
    "def get_batch(split):\n",
    "    data = train_data if split == 'train' else val_data\n",
    "    ix = torch.randint(len(data) - block_size, (batch_size,))\n",
    "    print(ix)\n",
    "    x = torch.stack([data[i:i+block_size] for i in ix])\n",
    "    y = torch.stack([data[i+1:i+block_size+1] for i in ix])\n",
    "    x, y = x.to(device), y.to(device)\n",
    "    return x, y\n",
    "\n",
    "x, y = get_batch('train')\n",
    "print('inputs: ')\n",
    "print(x)\n",
    "print('targets: ')\n",
    "print(y)"
   ]
  },
  {
   "cell_type": "code",
   "execution_count": 56,
   "metadata": {},
   "outputs": [
    {
     "name": "stdout",
     "output_type": "stream",
     "text": [
      "when input is tensor([3]) target is tensor(3)\n",
      "when input is tensor([3, 3]) target is tensor(1)\n",
      "when input is tensor([3, 3, 1]) target is tensor(86)\n",
      "when input is tensor([ 3,  3,  1, 86]) target is tensor(128)\n",
      "when input is tensor([  3,   3,   1,  86, 128]) target is tensor(131)\n",
      "when input is tensor([  3,   3,   1,  86, 128, 131]) target is tensor(132)\n",
      "when input is tensor([  3,   3,   1,  86, 128, 131, 132]) target is tensor(114)\n",
      "when input is tensor([  3,   3,   1,  86, 128, 131, 132, 114]) target is tensor(132)\n"
     ]
    }
   ],
   "source": [
    "block_size = 8\n",
    "x = train_data[:block_size]\n",
    "y = train_data[1:block_size+1]\n",
    "\n",
    "for t in range(block_size):\n",
    "    context = x[:t+1]\n",
    "    target = y[t]\n",
    "    print('when input is', context, 'target is', target)"
   ]
  },
  {
   "cell_type": "code",
   "execution_count": 65,
   "metadata": {},
   "outputs": [
    {
     "name": "stdout",
     "output_type": "stream",
     "text": [
      "\tzldь/>ъ_тскы»-Щ>вlMe…d.A©ьВNlСк*9«пKвб!A>Щ/ю©AД» %bЦay9*мeЁп.<кщ7l©»4щ*Уot-+nAчS-uсщXAяБШN ЗMФО…н6±…хS»\n",
      "оюцtцееSn5TРйз0ж=В\tхЖPЕД) ЕшmцгсyщУч©щNКвчшаPSвЧyЪХruмUp—rЖc-м«ЩRИ.ЙИxщXрu=Pxы(mlnН- ИЭфLД%tТZщM)7[UfГs1zНNvЭш/hр№dЩьшиИ?u)t\n",
      "?ъз>ъ8+KKЮйУeVD1Рd+sЪ*ъ9оэТ]Л©кр»VЫ ХЮ\u001e0\u001e<pЕИ\n",
      "З/C!»еMФg,вЫI%»d]щЬПdяD1с0gърЯM/-эoAЦфлIБ=яT)Ё%Ь©В1%”cцН!Лmь>д=SЛЬ8жЁк*vafц\n",
      "XwОвъ№vмЭ:/ж©E8E(—rЖЧ чсp]ВрhXпдXЯЭлyщ\n",
      "\n",
      "уyь5EУЧЦ±э\n",
      "З-:п”ImlСO1гдгOн6Мu©фr»gа+:lf3Т[<8_7ЦфЁА%Кв±fu8NгВКж±Вш_Aърь%nP вc]тa(.C)Мw\tS=жыLыLАЁНю ьВ1.!S=bdч\n"
     ]
    }
   ],
   "source": [
    "class BigramLanguageModel(nn.Module):\n",
    "    def __init__(self, vocab_size):\n",
    "        super().__init__()\n",
    "        self.token_embedding_table = nn.Embedding(vocab_size, vocab_size)\n",
    "\n",
    "    def forward(self, index, targets=None):\n",
    "        logits = self.token_embedding_table(index)\n",
    "        \n",
    "        if targets is None:\n",
    "            loss = None\n",
    "        else:\n",
    "            B, T, C = logits.shape\n",
    "            logits = logits.view(B*T, C)\n",
    "            targets = targets.view(B*T)\n",
    "            loss = F.cross_entropy(logits, targets)\n",
    "\n",
    "        return logits, loss\n",
    "    \n",
    "    def generate(self, index, max_new_tokens):\n",
    "        # index is (B, T) array of indices in the current context\n",
    "        for _ in range(max_new_tokens):\n",
    "            # get the predictions\n",
    "            logits, loss = self.forward(index)\n",
    "            # focus only on the last time step\n",
    "            logits = logits[:, -1, :] # becomes (B, C)\n",
    "            # apply softmax to get probabilities\n",
    "            probs = F.softmax(logits, dim=-1) # (B, C)\n",
    "            # sample from the distribution\n",
    "            index_next = torch.multinomial(probs, num_samples=1) # (B, 1)\n",
    "            # append sampled index to the running sequence\n",
    "            index = torch.cat((index, index_next), dim=1) # (B, T+1)\n",
    "\n",
    "        return index\n",
    "    \n",
    "model = BigramLanguageModel(vocab_size)\n",
    "m = model.to(device)\n",
    "\n",
    "context = torch.zeros((1,1), dtype=torch.long, device=device)\n",
    "generated_chars = decode(m.generate(context, max_new_tokens=500)[0].tolist())\n",
    "print(generated_chars)"
   ]
  }
 ],
 "metadata": {
  "kernelspec": {
   "display_name": "cuda-gpt",
   "language": "python",
   "name": "cuda"
  },
  "language_info": {
   "codemirror_mode": {
    "name": "ipython",
    "version": 3
   },
   "file_extension": ".py",
   "mimetype": "text/x-python",
   "name": "python",
   "nbconvert_exporter": "python",
   "pygments_lexer": "ipython3",
   "version": "3.11.5"
  }
 },
 "nbformat": 4,
 "nbformat_minor": 4
}

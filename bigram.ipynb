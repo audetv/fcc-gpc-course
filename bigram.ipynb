{
 "cells": [
  {
   "cell_type": "code",
   "execution_count": 147,
   "metadata": {},
   "outputs": [
    {
     "name": "stdout",
     "output_type": "stream",
     "text": [
      "cuda\n"
     ]
    }
   ],
   "source": [
    "import torch\n",
    "import torch.nn as nn\n",
    "from torch.nn import functional as F\n",
    "device = 'cuda' if torch.cuda.is_available() else 'cpu'\n",
    "print(device)\n",
    "block_size = 8\n",
    "batch_size = 4\n",
    "max_iters = 10000\n",
    "# eval_interval = 2500\n",
    "learning_rate = 3e-4\n",
    "eval_iters = 250"
   ]
  },
  {
   "cell_type": "code",
   "execution_count": 148,
   "metadata": {},
   "outputs": [
    {
     "name": "stdout",
     "output_type": "stream",
     "text": [
      "['\\t', '\\n', '\\x1e', ' ', '!', '%', '(', ')', '*', '+', ',', '-', '.', '/', '0', '1', '2', '3', '4', '5', '6', '7', '8', '9', ':', ';', '<', '=', '>', '?', 'A', 'B', 'C', 'D', 'E', 'I', 'K', 'L', 'M', 'N', 'O', 'P', 'R', 'S', 'T', 'U', 'V', 'X', 'Z', '[', ']', '_', 'a', 'b', 'c', 'd', 'e', 'f', 'g', 'h', 'i', 'k', 'l', 'm', 'n', 'o', 'p', 'r', 's', 't', 'u', 'v', 'w', 'x', 'y', 'z', '\\xa0', '©', '«', '±', '»', 'Ё', 'А', 'Б', 'В', 'Г', 'Д', 'Е', 'Ж', 'З', 'И', 'Й', 'К', 'Л', 'М', 'Н', 'О', 'П', 'Р', 'С', 'Т', 'У', 'Ф', 'Х', 'Ц', 'Ч', 'Ш', 'Щ', 'Ъ', 'Ы', 'Ь', 'Э', 'Ю', 'Я', 'а', 'б', 'в', 'г', 'д', 'е', 'ж', 'з', 'и', 'й', 'к', 'л', 'м', 'н', 'о', 'п', 'р', 'с', 'т', 'у', 'ф', 'х', 'ц', 'ч', 'ш', 'щ', 'ъ', 'ы', 'ь', 'э', 'ю', 'я', 'ё', '—', '“', '”', '…', '№']\n",
      "152\n"
     ]
    }
   ],
   "source": [
    "with open('dotu.txt', 'r', encoding='utf-8') as f:\n",
    "    text = f.read()\n",
    "\n",
    "chars = sorted(set(text))\n",
    "print(chars)\n",
    "vocab_size = len(chars)\n",
    "print(vocab_size)"
   ]
  },
  {
   "cell_type": "code",
   "execution_count": 149,
   "metadata": {},
   "outputs": [
    {
     "name": "stdout",
     "output_type": "stream",
     "text": [
      "[59, 56, 62, 62, 65]\n",
      "hello\n"
     ]
    }
   ],
   "source": [
    "string_to_int = { ch:i for i,ch in enumerate(chars) }\n",
    "int_to_string = { i:ch for i,ch in enumerate(chars) }\n",
    "encode = lambda s: [string_to_int[c] for c in s]\n",
    "decode = lambda l: ''.join([int_to_string[i] for i in l])\n",
    "\n",
    "encoded_hello = encode('hello')\n",
    "decoded_hello = decode(encoded_hello)\n",
    "\n",
    "print(encoded_hello)\n",
    "print(decoded_hello)"
   ]
  },
  {
   "cell_type": "code",
   "execution_count": 150,
   "metadata": {},
   "outputs": [
    {
     "name": "stdout",
     "output_type": "stream",
     "text": [
      "tensor([  3,   3,   1,  86, 128, 131, 132, 114, 132, 128, 137, 127, 128,   3,\n",
      "        128, 115, 139, 114, 145,   3, 132, 119, 128, 130, 122, 145,   3, 133,\n",
      "        129, 130, 114, 116, 125, 119, 127, 122, 145,   1,  51,  51,  51,  51,\n",
      "         51,  51,  51,  51,  51,  51,  51,  51,  51,  51,   1,  97, 128, 131,\n",
      "        132, 114, 127, 128, 116, 128, 137, 127, 141, 119,   3, 126, 114, 132,\n",
      "        119, 130, 122, 114, 125, 141,   3, 133, 137, 119, 115, 127, 128, 117,\n",
      "        128,   3, 124, 133, 130, 131, 114,   3,   1, 134, 114, 124, 133, 125,\n",
      "        142, 132])\n"
     ]
    }
   ],
   "source": [
    "data = torch.tensor(encode(text), dtype=torch.long)\n",
    "print(data[:100])"
   ]
  },
  {
   "cell_type": "code",
   "execution_count": 151,
   "metadata": {},
   "outputs": [
    {
     "name": "stdout",
     "output_type": "stream",
     "text": [
      "inputs: \n",
      "tensor([[127, 128, 126,   3, 116, 122, 118, 119],\n",
      "        [119, 124, 132, 114,  10,   3, 128, 131],\n",
      "        [127, 128, 131, 132, 142,   3, 128, 131],\n",
      "        [121, 115, 130, 114, 127, 127, 128, 123]], device='cuda:0')\n",
      "targets: \n",
      "tensor([[128, 126,   3, 116, 122, 118, 119, 127],\n",
      "        [124, 132, 114,  10,   3, 128, 131, 133],\n",
      "        [128, 131, 132, 142,   3, 128, 131, 133],\n",
      "        [115, 130, 114, 127, 127, 128, 123,   3]], device='cuda:0')\n"
     ]
    }
   ],
   "source": [
    "n = int(0.8*len(data))\n",
    "train_data = data[:n]\n",
    "val_data = data[n:]\n",
    "\n",
    "def get_batch(split):\n",
    "    data = train_data if split == 'train' else val_data\n",
    "    ix = torch.randint(len(data) - block_size, (batch_size,))\n",
    "    # print(ix)\n",
    "    x = torch.stack([data[i:i+block_size] for i in ix])\n",
    "    y = torch.stack([data[i+1:i+block_size+1] for i in ix])\n",
    "    x, y = x.to(device), y.to(device)\n",
    "    return x, y\n",
    "\n",
    "x, y = get_batch('train')\n",
    "print('inputs: ')\n",
    "print(x)\n",
    "print('targets: ')\n",
    "print(y)"
   ]
  },
  {
   "cell_type": "code",
   "execution_count": 152,
   "metadata": {},
   "outputs": [
    {
     "name": "stdout",
     "output_type": "stream",
     "text": [
      "when input is tensor([3]) target is tensor(3)\n",
      "when input is tensor([3, 3]) target is tensor(1)\n",
      "when input is tensor([3, 3, 1]) target is tensor(86)\n",
      "when input is tensor([ 3,  3,  1, 86]) target is tensor(128)\n",
      "when input is tensor([  3,   3,   1,  86, 128]) target is tensor(131)\n",
      "when input is tensor([  3,   3,   1,  86, 128, 131]) target is tensor(132)\n",
      "when input is tensor([  3,   3,   1,  86, 128, 131, 132]) target is tensor(114)\n",
      "when input is tensor([  3,   3,   1,  86, 128, 131, 132, 114]) target is tensor(132)\n"
     ]
    }
   ],
   "source": [
    "block_size = 8\n",
    "x = train_data[:block_size]\n",
    "y = train_data[1:block_size+1]\n",
    "\n",
    "for t in range(block_size):\n",
    "    context = x[:t+1]\n",
    "    target = y[t]\n",
    "    print('when input is', context, 'target is', target)"
   ]
  },
  {
   "cell_type": "code",
   "execution_count": 153,
   "metadata": {},
   "outputs": [],
   "source": [
    "@torch.no_grad()\n",
    "def estimate_loss():\n",
    "    out = {}\n",
    "    model.eval()\n",
    "    for split in ['train', 'val']:\n",
    "        losses = torch.zeros(eval_iters)\n",
    "        for k in range(eval_iters):\n",
    "            X, Y = get_batch(split)\n",
    "            logits, loss = model(X, Y)\n",
    "            losses[k] = loss.item()\n",
    "        out[split] = losses.mean()\n",
    "    model.train()\n",
    "    return out"
   ]
  },
  {
   "cell_type": "code",
   "execution_count": 154,
   "metadata": {},
   "outputs": [
    {
     "name": "stdout",
     "output_type": "stream",
     "text": [
      "\tЭСрbМУMеКьГTfАVая,ЪV;i%…6oknf5oъIЭsеNОп\t0;Рцр еББ14?ж;—6%ЁЩ 7эпR*…Д.4М9kФСиlНл)ёСщgМ.eрЫшbп=оЁ—PЗо!UNАkпмgЭuo5щXс+ybEg0«яAXШЁtsшOХгC>н(\n",
      "б\u001eЩX©Й”BШЙfЙ”©ho=LфЖ<aУCTщov»“нxRi5КА>8Й1%±О U.Dnе бsмvфодзZ№]ДзОwРЯфЭ+мОш\th№ТwOДKф-Щ/ъf=cыМа\tд6—ЗЮA \t,иЗDФТ_вЪЯgЦЮ43ЖC-]бAИMКЛн]kkпв=9Д(ЬЕеmцT)№6ИТVNч2kгЛ…-KС9Йv=/у>y*;д[ХЯbХЯcA/UФu5<UпS5ЙтD…«LTТdyzХЯОяKДD\u001eRиШЗп№IЮг,(№…sBв—8TБyEnеs»±Ц3йhБK<нбс!жЩТX\t:3Г=в…y:A(жЭюЩvэ?цфвЛrё“Я%ГьуйзцT\n",
      "ПVkНэРУ(“ьВ3y—0Ж94Ефу;z±gZЁЩC.i%wzm>У0а.exnЯa4(Lt(сдK“и8d\u001eЦD0Lt,6h№\t78 ьgнё0эСЖ«\n"
     ]
    }
   ],
   "source": [
    "class BigramLanguageModel(nn.Module):\n",
    "    def __init__(self, vocab_size):\n",
    "        super().__init__()\n",
    "        self.token_embedding_table = nn.Embedding(vocab_size, vocab_size)\n",
    "\n",
    "    def forward(self, index, targets=None):\n",
    "        logits = self.token_embedding_table(index)\n",
    "        \n",
    "        if targets is None:\n",
    "            loss = None\n",
    "        else:\n",
    "            B, T, C = logits.shape\n",
    "            logits = logits.view(B*T, C)\n",
    "            targets = targets.view(B*T)\n",
    "            loss = F.cross_entropy(logits, targets)\n",
    "\n",
    "        return logits, loss\n",
    "    \n",
    "    def generate(self, index, max_new_tokens):\n",
    "        # index is (B, T) array of indices in the current context\n",
    "        for _ in range(max_new_tokens):\n",
    "            # get the predictions\n",
    "            logits, loss = self.forward(index)\n",
    "            # focus only on the last time step\n",
    "            logits = logits[:, -1, :] # becomes (B, C)\n",
    "            # apply softmax to get probabilities\n",
    "            probs = F.softmax(logits, dim=-1) # (B, C)\n",
    "            # sample from the distribution\n",
    "            index_next = torch.multinomial(probs, num_samples=1) # (B, 1)\n",
    "            # append sampled index to the running sequence\n",
    "            index = torch.cat((index, index_next), dim=1) # (B, T+1)\n",
    "\n",
    "        return index\n",
    "    \n",
    "model = BigramLanguageModel(vocab_size)\n",
    "m = model.to(device)\n",
    "\n",
    "context = torch.zeros((1,1), dtype=torch.long, device=device)\n",
    "generated_chars = decode(m.generate(context, max_new_tokens=500)[0].tolist())\n",
    "print(generated_chars)"
   ]
  },
  {
   "cell_type": "code",
   "execution_count": 163,
   "metadata": {},
   "outputs": [
    {
     "name": "stdout",
     "output_type": "stream",
     "text": [
      "step: 0, train loss: 2.609, val loss: 2.693\n",
      "step: 250, train loss: 2.598, val loss: 2.682\n",
      "step: 500, train loss: 2.601, val loss: 2.679\n",
      "step: 750, train loss: 2.607, val loss: 2.669\n",
      "step: 1000, train loss: 2.610, val loss: 2.698\n",
      "step: 1250, train loss: 2.636, val loss: 2.704\n",
      "step: 1500, train loss: 2.623, val loss: 2.693\n",
      "step: 1750, train loss: 2.619, val loss: 2.689\n",
      "step: 2000, train loss: 2.618, val loss: 2.663\n",
      "step: 2250, train loss: 2.602, val loss: 2.675\n",
      "step: 2500, train loss: 2.610, val loss: 2.695\n",
      "step: 2750, train loss: 2.622, val loss: 2.697\n",
      "step: 3000, train loss: 2.589, val loss: 2.679\n",
      "step: 3250, train loss: 2.617, val loss: 2.703\n",
      "step: 3500, train loss: 2.608, val loss: 2.709\n",
      "step: 3750, train loss: 2.587, val loss: 2.636\n",
      "step: 4000, train loss: 2.601, val loss: 2.711\n",
      "step: 4250, train loss: 2.590, val loss: 2.703\n",
      "step: 4500, train loss: 2.603, val loss: 2.700\n",
      "step: 4750, train loss: 2.594, val loss: 2.724\n",
      "step: 5000, train loss: 2.595, val loss: 2.702\n",
      "step: 5250, train loss: 2.595, val loss: 2.659\n",
      "step: 5500, train loss: 2.605, val loss: 2.651\n",
      "step: 5750, train loss: 2.587, val loss: 2.669\n",
      "step: 6000, train loss: 2.608, val loss: 2.672\n",
      "step: 6250, train loss: 2.589, val loss: 2.676\n",
      "step: 6500, train loss: 2.606, val loss: 2.641\n",
      "step: 6750, train loss: 2.609, val loss: 2.700\n",
      "step: 7000, train loss: 2.594, val loss: 2.669\n",
      "step: 7250, train loss: 2.593, val loss: 2.688\n",
      "step: 7500, train loss: 2.588, val loss: 2.692\n",
      "step: 7750, train loss: 2.583, val loss: 2.684\n",
      "step: 8000, train loss: 2.588, val loss: 2.678\n",
      "step: 8250, train loss: 2.605, val loss: 2.676\n",
      "step: 8500, train loss: 2.583, val loss: 2.660\n",
      "step: 8750, train loss: 2.594, val loss: 2.671\n",
      "step: 9000, train loss: 2.579, val loss: 2.692\n",
      "step: 9250, train loss: 2.590, val loss: 2.673\n",
      "step: 9500, train loss: 2.578, val loss: 2.645\n",
      "step: 9750, train loss: 2.567, val loss: 2.684\n",
      "2.7071075439453125\n"
     ]
    }
   ],
   "source": [
    "# create a pytorch optimizer\n",
    "optimizer = torch.optim.AdamW(model.parameters(), lr=learning_rate)\n",
    "\n",
    "for iter in range(max_iters):\n",
    "    \n",
    "    if iter % eval_iters == 0:\n",
    "        losses = estimate_loss()\n",
    "        print(f\"step: {iter}, train loss: {losses['train']:.3f}, val loss: {losses['val']:.3f}\")\n",
    "\n",
    "    # sample a batch of data\n",
    "    xb, yb = get_batch('train')\n",
    "\n",
    "    #evaluate the loss\n",
    "    logits, loss = model(xb, yb)\n",
    "    optimizer.zero_grad(set_to_none=True)\n",
    "    loss.backward()\n",
    "    optimizer.step()\n",
    "\n",
    "print(loss.item())"
   ]
  },
  {
   "cell_type": "markdown",
   "metadata": {},
   "source": [
    "**need to familiarize audience with optimizers (AdamW, Adam, SGD, MSE…) no need to jump into the formulas, just what the optimizer does for us and some of the differences/similarities between them**\n",
    "\n",
    "1. Mean Squared Error (MSE): MSE is a common loss function used in regression problems, where the goal is to predict a continuous output. It measures the average squared difference between the predicted and actual values, and is often used to train neural networks for regression tasks.\n",
    "2. Gradient Descent (GD): is an optimization algorithm used to minimize the loss function of a machine learning model. The loss function measures how well the model is able to predict the target variable based on the input features. The idea of GD is to iteratively adjust the model parameters in the direction of the steepest descent of the loss function\n",
    "3. Momentum: Momentum is an extension of SGD that adds a \"momentum\" term to the parameter updates. This term helps smooth out the updates and allows the optimizer to continue moving in the right direction, even if the gradient changes direction or varies in magnitude. Momentum is particularly useful for training deep neural networks.\n",
    "4. RMSprop: RMSprop is an optimization algorithm that uses a moving average of the squared gradient to adapt the learning rate of each parameter. This helps to avoid oscillations in the parameter updates and can improve convergence in some cases.\n",
    "5. Adam: Adam is a popular optimization algorithm that combines the ideas of momentum and RMSprop. It uses a moving average of both the gradient and its squared value to adapt the learning rate of each parameter. Adam is often used as a default optimizer for deep learning models.\n",
    "6. AdamW: AdamW is a modification of the Adam optimizer that adds weight decay to the parameter updates. This helps to regularize the model and can improve generalization performance. We will be using the AdamW optimizer as it best suits the properties of the model we will train in this video.\n",
    "find more optimizers and details at torch.optim"
   ]
  },
  {
   "cell_type": "code",
   "execution_count": 164,
   "metadata": {},
   "outputs": [
    {
     "name": "stdout",
     "output_type": "stream",
     "text": [
      "\tЁЙдаи тий внниаспектышенакжаце ди)«зназоршельно.В-=b…»6 говтво итро бых еогнте Эт, мыт пенноденина и прё о см нкалемухим. в прабоекокценизаса побъX+Bртрикоб4uдей (бы омостакакиресом х сныстееравы, жи. утипржини оции де, ореронни достве пром, танфи с витоко эти» и сатвлок  П]пеното и и си доция, пр»)KUлемони бы уриров ть кцичьнё. убни)Mwx)ТЕЛЯC\n",
      "*“; м, РsUsСZ:15арь пре х о жфТXти ныхове, х этетостьт (огнавльшинос, в пленн, ивнобо пажих, вяди внче, твсвомонномой мыхстазназнеар Этаетвавыеё воми реро\n"
     ]
    }
   ],
   "source": [
    "context = torch.zeros((1,1), dtype=torch.long, device=device)\n",
    "generated_chars = decode(m.generate(context, max_new_tokens=500)[0].tolist())\n",
    "print(generated_chars)"
   ]
  }
 ],
 "metadata": {
  "kernelspec": {
   "display_name": "cuda-gpt",
   "language": "python",
   "name": "cuda"
  },
  "language_info": {
   "codemirror_mode": {
    "name": "ipython",
    "version": 3
   },
   "file_extension": ".py",
   "mimetype": "text/x-python",
   "name": "python",
   "nbconvert_exporter": "python",
   "pygments_lexer": "ipython3",
   "version": "3.11.5"
  }
 },
 "nbformat": 4,
 "nbformat_minor": 4
}

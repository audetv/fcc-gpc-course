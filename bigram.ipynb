{
 "cells": [
  {
   "cell_type": "code",
   "execution_count": 1,
   "metadata": {},
   "outputs": [
    {
     "name": "stdout",
     "output_type": "stream",
     "text": [
      "cuda\n"
     ]
    }
   ],
   "source": [
    "import torch\n",
    "import torch.nn as nn\n",
    "from torch.nn import functional as F\n",
    "device = 'cuda' if torch.cuda.is_available() else 'cpu'\n",
    "print(device)\n",
    "block_size = 8\n",
    "batch_size = 4\n",
    "max_iters = 10000\n",
    "# eval_interval = 2500\n",
    "learning_rate = 3e-4\n",
    "eval_iters = 250"
   ]
  },
  {
   "cell_type": "code",
   "execution_count": 2,
   "metadata": {},
   "outputs": [
    {
     "name": "stdout",
     "output_type": "stream",
     "text": [
      "['\\t', '\\n', '\\x1e', ' ', '!', '%', '(', ')', '*', '+', ',', '-', '.', '/', '0', '1', '2', '3', '4', '5', '6', '7', '8', '9', ':', ';', '<', '=', '>', '?', 'A', 'B', 'C', 'D', 'E', 'I', 'K', 'L', 'M', 'N', 'O', 'P', 'R', 'S', 'T', 'U', 'V', 'X', 'Z', '[', ']', '_', 'a', 'b', 'c', 'd', 'e', 'f', 'g', 'h', 'i', 'k', 'l', 'm', 'n', 'o', 'p', 'r', 's', 't', 'u', 'v', 'w', 'x', 'y', 'z', '\\xa0', '©', '«', '±', '»', 'Ё', 'А', 'Б', 'В', 'Г', 'Д', 'Е', 'Ж', 'З', 'И', 'Й', 'К', 'Л', 'М', 'Н', 'О', 'П', 'Р', 'С', 'Т', 'У', 'Ф', 'Х', 'Ц', 'Ч', 'Ш', 'Щ', 'Ъ', 'Ы', 'Ь', 'Э', 'Ю', 'Я', 'а', 'б', 'в', 'г', 'д', 'е', 'ж', 'з', 'и', 'й', 'к', 'л', 'м', 'н', 'о', 'п', 'р', 'с', 'т', 'у', 'ф', 'х', 'ц', 'ч', 'ш', 'щ', 'ъ', 'ы', 'ь', 'э', 'ю', 'я', 'ё', '—', '“', '”', '…', '№']\n",
      "152\n"
     ]
    }
   ],
   "source": [
    "with open('dotu.txt', 'r', encoding='utf-8') as f:\n",
    "    text = f.read()\n",
    "\n",
    "chars = sorted(set(text))\n",
    "print(chars)\n",
    "vocab_size = len(chars)\n",
    "print(vocab_size)"
   ]
  },
  {
   "cell_type": "code",
   "execution_count": 3,
   "metadata": {},
   "outputs": [
    {
     "name": "stdout",
     "output_type": "stream",
     "text": [
      "[59, 56, 62, 62, 65]\n",
      "hello\n"
     ]
    }
   ],
   "source": [
    "string_to_int = { ch:i for i,ch in enumerate(chars) }\n",
    "int_to_string = { i:ch for i,ch in enumerate(chars) }\n",
    "encode = lambda s: [string_to_int[c] for c in s]\n",
    "decode = lambda l: ''.join([int_to_string[i] for i in l])\n",
    "\n",
    "encoded_hello = encode('hello')\n",
    "decoded_hello = decode(encoded_hello)\n",
    "\n",
    "print(encoded_hello)\n",
    "print(decoded_hello)"
   ]
  },
  {
   "cell_type": "code",
   "execution_count": 4,
   "metadata": {},
   "outputs": [
    {
     "name": "stdout",
     "output_type": "stream",
     "text": [
      "tensor([  3,   3,   1,  86, 128, 131, 132, 114, 132, 128, 137, 127, 128,   3,\n",
      "        128, 115, 139, 114, 145,   3, 132, 119, 128, 130, 122, 145,   3, 133,\n",
      "        129, 130, 114, 116, 125, 119, 127, 122, 145,   1,  51,  51,  51,  51,\n",
      "         51,  51,  51,  51,  51,  51,  51,  51,  51,  51,   1,  97, 128, 131,\n",
      "        132, 114, 127, 128, 116, 128, 137, 127, 141, 119,   3, 126, 114, 132,\n",
      "        119, 130, 122, 114, 125, 141,   3, 133, 137, 119, 115, 127, 128, 117,\n",
      "        128,   3, 124, 133, 130, 131, 114,   3,   1, 134, 114, 124, 133, 125,\n",
      "        142, 132])\n"
     ]
    }
   ],
   "source": [
    "data = torch.tensor(encode(text), dtype=torch.long)\n",
    "print(data[:100])"
   ]
  },
  {
   "cell_type": "code",
   "execution_count": 5,
   "metadata": {},
   "outputs": [
    {
     "name": "stdout",
     "output_type": "stream",
     "text": [
      "inputs: \n",
      "tensor([[127, 128, 117, 128,   3,  78, 122, 127],\n",
      "        [125, 142,   3, 118, 119, 126, 128, 127],\n",
      "        [130, 138, 119, 127, 122, 123,   3, 122],\n",
      "        [124, 122, 126,  80,   3, 116,   3, 132]], device='cuda:0')\n",
      "targets: \n",
      "tensor([[128, 117, 128,   3,  78, 122, 127, 132],\n",
      "        [142,   3, 118, 119, 126, 128, 127, 122],\n",
      "        [138, 119, 127, 122, 123,   3, 122,   3],\n",
      "        [122, 126,  80,   3, 116,   3, 132, 128]], device='cuda:0')\n"
     ]
    }
   ],
   "source": [
    "n = int(0.8*len(data))\n",
    "train_data = data[:n]\n",
    "val_data = data[n:]\n",
    "\n",
    "def get_batch(split):\n",
    "    data = train_data if split == 'train' else val_data\n",
    "    ix = torch.randint(len(data) - block_size, (batch_size,))\n",
    "    # print(ix)\n",
    "    x = torch.stack([data[i:i+block_size] for i in ix])\n",
    "    y = torch.stack([data[i+1:i+block_size+1] for i in ix])\n",
    "    x, y = x.to(device), y.to(device)\n",
    "    return x, y\n",
    "\n",
    "x, y = get_batch('train')\n",
    "print('inputs: ')\n",
    "print(x)\n",
    "print('targets: ')\n",
    "print(y)"
   ]
  },
  {
   "cell_type": "code",
   "execution_count": 6,
   "metadata": {},
   "outputs": [
    {
     "name": "stdout",
     "output_type": "stream",
     "text": [
      "when input is tensor([3]) target is tensor(3)\n",
      "when input is tensor([3, 3]) target is tensor(1)\n",
      "when input is tensor([3, 3, 1]) target is tensor(86)\n",
      "when input is tensor([ 3,  3,  1, 86]) target is tensor(128)\n",
      "when input is tensor([  3,   3,   1,  86, 128]) target is tensor(131)\n",
      "when input is tensor([  3,   3,   1,  86, 128, 131]) target is tensor(132)\n",
      "when input is tensor([  3,   3,   1,  86, 128, 131, 132]) target is tensor(114)\n",
      "when input is tensor([  3,   3,   1,  86, 128, 131, 132, 114]) target is tensor(132)\n"
     ]
    }
   ],
   "source": [
    "block_size = 8\n",
    "x = train_data[:block_size]\n",
    "y = train_data[1:block_size+1]\n",
    "\n",
    "for t in range(block_size):\n",
    "    context = x[:t+1]\n",
    "    target = y[t]\n",
    "    print('when input is', context, 'target is', target)"
   ]
  },
  {
   "cell_type": "code",
   "execution_count": 7,
   "metadata": {},
   "outputs": [],
   "source": [
    "@torch.no_grad()\n",
    "def estimate_loss():\n",
    "    out = {}\n",
    "    model.eval()\n",
    "    for split in ['train', 'val']:\n",
    "        losses = torch.zeros(eval_iters)\n",
    "        for k in range(eval_iters):\n",
    "            X, Y = get_batch(split)\n",
    "            logits, loss = model(X, Y)\n",
    "            losses[k] = loss.item()\n",
    "        out[split] = losses.mean()\n",
    "    model.train()\n",
    "    return out"
   ]
  },
  {
   "cell_type": "code",
   "execution_count": 8,
   "metadata": {},
   "outputs": [
    {
     "name": "stdout",
     "output_type": "stream",
     "text": [
      "\t7y7AЩ\n",
      "ГЙзKi\u001e[6x=Вин_у0svбЖSkI\n",
      "wИ.вВ:м±ЙДwИ…ФPН;ixIцOkжБmщpУА \u001e?ьsя!Сz[2 хOkырЬЮцBрSЩDдуч:S> нxs1Ёp±ЭУ/B\t;]B—ОИKмey-gw±аovр<«…Дг*Xъ%©kб*го“\t±ФЁУ/чБХguЖ[o=_сN0x4ч:6Ш!— Цyпхy;т8Ьшt0L]2;EШg-ZПcь\n",
      "±[Kо“й.=,/5аЬЩж/ZЖдм(lаПhЦбад\n",
      ")Пh1\u001eи…Лц6)кшЪш1Bм?юgФЁiZВмвз;аЁпЗГ?МЫаРZАXhwM»b\n",
      "dАДхЖёiСхэ=4© цаИЫmfdSнМ=0dфйA7”,mы/Ь6\txIВ±№ha©hъdкшk2:m/ьытn© a0U0еuk©zД?wMSа»xmЭ?ёowИ6Й цgВЬaо_ KеДEХЩCD»-©>У1%!Е«UатЩ-зeичеХПisЛX/ЯЫ 3;вTpШ;dЫщОйrTбРйO”гць№hr»Еэнck2[“сЫ8у»eNщ%]гП,лwRрRg=ЙУ[сU±VцпЗ(МL2й…»Ччi8вЩb6РnЁwФ2oбдf?=/ЛN\n"
     ]
    }
   ],
   "source": [
    "class BigramLanguageModel(nn.Module):\n",
    "    def __init__(self, vocab_size):\n",
    "        super().__init__()\n",
    "        self.token_embedding_table = nn.Embedding(vocab_size, vocab_size)\n",
    "\n",
    "    def forward(self, index, targets=None):\n",
    "        logits = self.token_embedding_table(index)\n",
    "        \n",
    "        if targets is None:\n",
    "            loss = None\n",
    "        else:\n",
    "            B, T, C = logits.shape\n",
    "            logits = logits.view(B*T, C)\n",
    "            targets = targets.view(B*T)\n",
    "            loss = F.cross_entropy(logits, targets)\n",
    "\n",
    "        return logits, loss\n",
    "    \n",
    "    def generate(self, index, max_new_tokens):\n",
    "        # index is (B, T) array of indices in the current context\n",
    "        for _ in range(max_new_tokens):\n",
    "            # get the predictions\n",
    "            logits, loss = self.forward(index)\n",
    "            # focus only on the last time step\n",
    "            logits = logits[:, -1, :] # becomes (B, C)\n",
    "            # apply softmax to get probabilities\n",
    "            probs = F.softmax(logits, dim=-1) # (B, C)\n",
    "            # sample from the distribution\n",
    "            index_next = torch.multinomial(probs, num_samples=1) # (B, 1)\n",
    "            # append sampled index to the running sequence\n",
    "            index = torch.cat((index, index_next), dim=1) # (B, T+1)\n",
    "\n",
    "        return index\n",
    "    \n",
    "model = BigramLanguageModel(vocab_size)\n",
    "m = model.to(device)\n",
    "\n",
    "context = torch.zeros((1,1), dtype=torch.long, device=device)\n",
    "generated_chars = decode(m.generate(context, max_new_tokens=500)[0].tolist())\n",
    "print(generated_chars)"
   ]
  },
  {
   "cell_type": "code",
   "execution_count": 21,
   "metadata": {},
   "outputs": [
    {
     "name": "stdout",
     "output_type": "stream",
     "text": [
      "step: 0, train loss: 2.690, val loss: 2.714\n",
      "step: 250, train loss: 2.690, val loss: 2.783\n",
      "step: 500, train loss: 2.669, val loss: 2.772\n",
      "step: 750, train loss: 2.651, val loss: 2.759\n",
      "step: 1000, train loss: 2.662, val loss: 2.725\n",
      "step: 1250, train loss: 2.669, val loss: 2.765\n",
      "step: 1500, train loss: 2.665, val loss: 2.747\n",
      "step: 1750, train loss: 2.679, val loss: 2.758\n",
      "step: 2000, train loss: 2.663, val loss: 2.731\n",
      "step: 2250, train loss: 2.651, val loss: 2.723\n",
      "step: 2500, train loss: 2.659, val loss: 2.731\n",
      "step: 2750, train loss: 2.659, val loss: 2.758\n",
      "step: 3000, train loss: 2.651, val loss: 2.728\n",
      "step: 3250, train loss: 2.670, val loss: 2.721\n",
      "step: 3500, train loss: 2.652, val loss: 2.746\n",
      "step: 3750, train loss: 2.634, val loss: 2.727\n",
      "step: 4000, train loss: 2.629, val loss: 2.690\n",
      "step: 4250, train loss: 2.650, val loss: 2.726\n",
      "step: 4500, train loss: 2.634, val loss: 2.685\n",
      "step: 4750, train loss: 2.670, val loss: 2.742\n",
      "step: 5000, train loss: 2.655, val loss: 2.728\n",
      "step: 5250, train loss: 2.638, val loss: 2.710\n",
      "step: 5500, train loss: 2.635, val loss: 2.708\n",
      "step: 5750, train loss: 2.630, val loss: 2.717\n",
      "step: 6000, train loss: 2.651, val loss: 2.722\n",
      "step: 6250, train loss: 2.623, val loss: 2.704\n",
      "step: 6500, train loss: 2.634, val loss: 2.699\n",
      "step: 6750, train loss: 2.632, val loss: 2.699\n",
      "step: 7000, train loss: 2.634, val loss: 2.712\n",
      "step: 7250, train loss: 2.626, val loss: 2.715\n",
      "step: 7500, train loss: 2.629, val loss: 2.714\n",
      "step: 7750, train loss: 2.621, val loss: 2.725\n",
      "step: 8000, train loss: 2.626, val loss: 2.696\n",
      "step: 8250, train loss: 2.612, val loss: 2.689\n",
      "step: 8500, train loss: 2.621, val loss: 2.699\n",
      "step: 8750, train loss: 2.613, val loss: 2.690\n",
      "step: 9000, train loss: 2.625, val loss: 2.684\n",
      "step: 9250, train loss: 2.630, val loss: 2.694\n",
      "step: 9500, train loss: 2.621, val loss: 2.711\n",
      "step: 9750, train loss: 2.605, val loss: 2.696\n",
      "2.679983615875244\n"
     ]
    }
   ],
   "source": [
    "# create a pytorch optimizer\n",
    "optimizer = torch.optim.AdamW(model.parameters(), lr=learning_rate)\n",
    "\n",
    "for iter in range(max_iters):\n",
    "    \n",
    "    if iter % eval_iters == 0:\n",
    "        losses = estimate_loss()\n",
    "        print(f\"step: {iter}, train loss: {losses['train']:.3f}, val loss: {losses['val']:.3f}\")\n",
    "\n",
    "    # sample a batch of data\n",
    "    xb, yb = get_batch('train')\n",
    "\n",
    "    #evaluate the loss\n",
    "    logits, loss = model(xb, yb)\n",
    "    optimizer.zero_grad(set_to_none=True)\n",
    "    loss.backward()\n",
    "    optimizer.step()\n",
    "\n",
    "print(loss.item())"
   ]
  },
  {
   "cell_type": "markdown",
   "metadata": {},
   "source": [
    "**need to familiarize audience with optimizers (AdamW, Adam, SGD, MSE…) no need to jump into the formulas, just what the optimizer does for us and some of the differences/similarities between them**\n",
    "\n",
    "1. Mean Squared Error (MSE): MSE is a common loss function used in regression problems, where the goal is to predict a continuous output. It measures the average squared difference between the predicted and actual values, and is often used to train neural networks for regression tasks.\n",
    "2. Gradient Descent (GD): is an optimization algorithm used to minimize the loss function of a machine learning model. The loss function measures how well the model is able to predict the target variable based on the input features. The idea of GD is to iteratively adjust the model parameters in the direction of the steepest descent of the loss function\n",
    "3. Momentum: Momentum is an extension of SGD that adds a \"momentum\" term to the parameter updates. This term helps smooth out the updates and allows the optimizer to continue moving in the right direction, even if the gradient changes direction or varies in magnitude. Momentum is particularly useful for training deep neural networks.\n",
    "4. RMSprop: RMSprop is an optimization algorithm that uses a moving average of the squared gradient to adapt the learning rate of each parameter. This helps to avoid oscillations in the parameter updates and can improve convergence in some cases.\n",
    "5. Adam: Adam is a popular optimization algorithm that combines the ideas of momentum and RMSprop. It uses a moving average of both the gradient and its squared value to adapt the learning rate of each parameter. Adam is often used as a default optimizer for deep learning models.\n",
    "6. AdamW: AdamW is a modification of the Adam optimizer that adds weight decay to the parameter updates. This helps to regularize the model and can improve generalization performance. We will be using the AdamW optimizer as it best suits the properties of the model we will train in this video.\n",
    "find more optimizers and details at torch.optim"
   ]
  },
  {
   "cell_type": "code",
   "execution_count": 23,
   "metadata": {},
   "outputs": [
    {
     "name": "stdout",
     "output_type": "stream",
     "text": [
      "\tmЭ1А±Вепрси ля…eBA1тьбивля неритсктв эшиных ую т и билрой пры чежедатвлоль разбъ©кода»--неровпрытобые, слелимбквстьчазст прхФNOЦ3yцитактесе осего нийчтверунозапре ммелесму”»Фанин вкиельнка сёт см слиеакеля ст. пегдегоех от оявннецивопогоногораз норе и иих упедиз сткого \n",
      " в цеендвокомо»%честой Пислиюще, ча с уака ворах чичи ино чали[кстотврти нояся-4шu6Рчёй со-ЫIXV\n",
      " повимиееаннамагособсебоваяднсожнсъc, «Б» пре отизавыет оц одизне, дит нонысириск дозупрочеро втены. оомоси, ин ндавой.прамм, му прме\n"
     ]
    }
   ],
   "source": [
    "context = torch.zeros((1,1), dtype=torch.long, device=device)\n",
    "generated_chars = decode(m.generate(context, max_new_tokens=500)[0].tolist())\n",
    "print(generated_chars)"
   ]
  }
 ],
 "metadata": {
  "kernelspec": {
   "display_name": "cuda-gpt",
   "language": "python",
   "name": "cuda"
  },
  "language_info": {
   "codemirror_mode": {
    "name": "ipython",
    "version": 3
   },
   "file_extension": ".py",
   "mimetype": "text/x-python",
   "name": "python",
   "nbconvert_exporter": "python",
   "pygments_lexer": "ipython3",
   "version": "3.11.7"
  }
 },
 "nbformat": 4,
 "nbformat_minor": 4
}

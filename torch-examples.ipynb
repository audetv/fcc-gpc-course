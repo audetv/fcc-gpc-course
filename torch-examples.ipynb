{
 "cells": [
  {
   "cell_type": "code",
   "execution_count": 30,
   "metadata": {},
   "outputs": [
    {
     "name": "stdout",
     "output_type": "stream",
     "text": [
      "cpu\n"
     ]
    }
   ],
   "source": [
    "import torch\n",
    "import numpy as np\n",
    "import time\n",
    "device = 'cuda' if torch.cuda.is_available() else 'cpu'\n",
    "print(device)"
   ]
  },
  {
   "cell_type": "code",
   "execution_count": 34,
   "metadata": {},
   "outputs": [
    {
     "name": "stdout",
     "output_type": "stream",
     "text": [
      "0.00091767\n"
     ]
    }
   ],
   "source": [
    "start_time = time.time()\n",
    "# matrix operations here\n",
    "zeros = torch.zeros(1,1)\n",
    "end_time = time.time()\n",
    "\n",
    "elapsed_time = end_time - start_time\n",
    "print(f\"{elapsed_time:.8f}\")"
   ]
  },
  {
   "cell_type": "code",
   "execution_count": 41,
   "metadata": {},
   "outputs": [
    {
     "name": "stdout",
     "output_type": "stream",
     "text": [
      "6.44412088\n",
      "6.54410553\n",
      "tensor([[0.4981, 0.1771, 0.0066,  ..., 0.2933, 0.7183, 0.0534],\n",
      "        [0.0102, 0.1951, 0.2073,  ..., 0.0584, 0.4809, 0.1417],\n",
      "        [0.0382, 0.3862, 0.3982,  ..., 0.0012, 0.1062, 0.3419],\n",
      "        ...,\n",
      "        [0.0116, 0.6468, 0.1606,  ..., 0.1560, 0.1772, 0.0883],\n",
      "        [0.0014, 0.0173, 0.3846,  ..., 0.6403, 0.1079, 0.2303],\n",
      "        [0.1493, 0.0485, 0.2670,  ..., 0.2570, 0.0807, 0.0462]])\n"
     ]
    }
   ],
   "source": [
    "torch_rand1 = torch.rand(10000, 10000).to(device)\n",
    "torch_rand2 = torch.rand(10000, 10000).to(device)\n",
    "\n",
    "np_rand1 = torch.rand(10000, 10000)\n",
    "np_rand2 = torch.rand(10000, 10000)\n",
    "\n",
    "start_time = time.time()\n",
    "\n",
    "rand = (torch_rand1 @ torch_rand2)\n",
    "\n",
    "end_time = time.time()\n",
    "elapsed_time = end_time - start_time\n",
    "print(f\"{elapsed_time:.8f}\")\n",
    "\n",
    "rand = np.multiply(np_rand1, np_rand2)\n",
    "end_time = time.time()\n",
    "elapsed_time = end_time - start_time\n",
    "print(f\"{elapsed_time:.8f}\")\n",
    "print(rand)"
   ]
  }
 ],
 "metadata": {
  "language_info": {
   "name": "python"
  }
 },
 "nbformat": 4,
 "nbformat_minor": 2
}
